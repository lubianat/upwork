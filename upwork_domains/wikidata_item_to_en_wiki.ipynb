{
 "cells": [
  {
   "cell_type": "code",
   "execution_count": 1,
   "metadata": {},
   "outputs": [],
   "source": [
    "import requests\n",
    "from requests import utils\n",
    "import pandas as pd\n",
    "\n",
    "partial_result = pd.read_csv(\"partial_result.csv\")"
   ]
  },
  {
   "cell_type": "code",
   "execution_count": 2,
   "metadata": {},
   "outputs": [],
   "source": [
    "partial_result['qid'] = [url.split(\"/\")[4] for url in partial_result['item'] ]"
   ]
  },
  {
   "cell_type": "code",
   "execution_count": 3,
   "metadata": {},
   "outputs": [],
   "source": [
    "def chunks(lst, n):\n",
    "    \"\"\"Yield successive n-sized chunks from lst.\"\"\"\n",
    "    for i in range(0, len(lst), n):\n",
    "        yield lst[i:i + n]\n",
    "\n"
   ]
  },
  {
   "cell_type": "code",
   "execution_count": 7,
   "metadata": {},
   "outputs": [],
   "source": [
    "chunks_for_api = chunks(partial_result['qid'], 50)\n",
    "\n",
    "qid_to_url = {}\n",
    "for chunk in chunks_for_api:\n",
    "    wikidata_ids = \"|\".join(chunk)\n",
    "    url = (\n",
    "    'https://www.wikidata.org/w/api.php'\n",
    "    '?action=wbgetentities'\n",
    "    '&props=sitelinks/urls'\n",
    "    f'&ids={wikidata_ids}'\n",
    "    '&format=json')\n",
    "\n",
    "    json_response = requests.get(url).json()\n",
    "\n",
    "    entities = json_response.get('entities')\n",
    "\n",
    "    lang = \"en\"\n",
    "\n",
    "\n",
    "    for entity in entities:\n",
    "        try:\n",
    "            sitelinks = entities[entity].get('sitelinks')\n",
    "            sitelink = sitelinks.get(f'{lang}wiki')\n",
    "            wiki_url = sitelink.get('url')\n",
    "            qid_to_url[entity] = wiki_url\n",
    "        except:\n",
    "            wiki_url = \"Not found\"\n",
    "            qid_to_url[entity] = wiki_url\n"
   ]
  },
  {
   "cell_type": "code",
   "execution_count": 8,
   "metadata": {},
   "outputs": [
    {
     "data": {
      "text/plain": [
       "0                https://en.wikipedia.org/wiki/YouTube\n",
       "1                                            Not found\n",
       "2      https://en.wikipedia.org/wiki/YouTube_(channel)\n",
       "3                                            Not found\n",
       "4        https://en.wikipedia.org/wiki/YouTube_Premium\n",
       "                            ...                       \n",
       "259      https://en.wikipedia.org/wiki/Visi_Media_Asia\n",
       "260          https://en.wikipedia.org/wiki/Bank_Mellat\n",
       "261                                          Not found\n",
       "262           https://en.wikipedia.org/wiki/Develothon\n",
       "263      https://en.wikipedia.org/wiki/Bank_Melli_Iran\n",
       "Name: qid, Length: 264, dtype: object"
      ]
     },
     "execution_count": 8,
     "metadata": {},
     "output_type": "execute_result"
    }
   ],
   "source": [
    "partial_result[\"enwiki\"] = partial_result[\"qid\"].map(qid_to_url)"
   ]
  },
  {
   "cell_type": "code",
   "execution_count": 9,
   "metadata": {},
   "outputs": [],
   "source": [
    "partial_result.to_csv(\"partial_result_with_wikipedia_links.csv\")"
   ]
  },
  {
   "cell_type": "code",
   "execution_count": null,
   "metadata": {},
   "outputs": [],
   "source": []
  }
 ],
 "metadata": {
  "kernelspec": {
   "display_name": "Python 3",
   "language": "python",
   "name": "python3"
  },
  "language_info": {
   "codemirror_mode": {
    "name": "ipython",
    "version": 3
   },
   "file_extension": ".py",
   "mimetype": "text/x-python",
   "name": "python",
   "nbconvert_exporter": "python",
   "pygments_lexer": "ipython3",
   "version": "3.6.9"
  }
 },
 "nbformat": 4,
 "nbformat_minor": 4
}
